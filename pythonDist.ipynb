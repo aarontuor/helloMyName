{
 "cells": [
  {
   "cell_type": "markdown",
   "metadata": {},
   "source": [
    "https://readthedocs.org/\n",
    "\n",
    "reStructuredText and Markdown are lightweight markup languages (as opposed to heavyweight markup like html css combo) used for documentation among other things. This tutorial is written in Markdown. The docs are written in rSt."
   ]
  },
  {
   "cell_type": "markdown",
   "metadata": {},
   "source": [
    "```bash\n",
    "$ mkdir ~/pythonDist\n",
    "$ virtualenv --system-site-packages ~/pythonDist\n",
    "$ source ~/pythonDist/bin/activate\n",
    "$ pip install sphinx sphinx-autobuild\n",
    "$ pip install sphinx sphinx-autobuild\n",
    "$ cd docs\n",
    "$ sphinx-quickstart\n",
    "$ make html\n",
    "```"
   ]
  },
  {
   "cell_type": "markdown",
   "metadata": {
    "collapsed": true
   },
   "source": [
    "# Customization\n",
    "\n",
    "Add these lines in the appropriate spots in `conf.py`\n",
    "\n",
    "```python\n",
    "sys.path.append(os.path.abspath('sphinxext'))\n",
    "sys.path.append(os.path.abspath('../hello/'))\n",
    "html_theme = \"sphinx_rtd_theme\"\n",
    "html_logo = '_static/snake.png'\n",
    "```\n",
    "\n",
    "Add these lines in the appropriate spots in `index.rst`\n",
    "```\n",
    ".. automodule:: welcome\n",
    "   :members:\n",
    "   :undoc-members:\n",
    "```"
   ]
  },
  {
   "cell_type": "markdown",
   "metadata": {},
   "source": [
    "# hosting the code on github\n",
    "\n",
    "1. Make a repo on github called myNameHello.\n",
    "2. Link the repo as the remote of your local hello repo.\n",
    "    From `hello` directory:\n",
    "    \n",
    "```bash\n",
    "$ git init\n",
    "$ git add --all\n",
    "$ git commit -m 'first commit'\n",
    "$ git remote add origin https://github.com/aarontuor/hello.git\n",
    "$ git push origin master\n",
    "```\n",
    "\n",
    "# distributing the code on pypi\n",
    "\n",
    "1. Make a pypi account\n",
    "\n",
    "From the helloMyName directory:\n",
    "\n",
    "```bash\n",
    "$ python setup.py register sdist upload\n",
    "```\n",
    "\n",
    "If this doesn't work add a \n",
    "\n",
    "To install package:\n",
    "```bash\n",
    "$ pip install helloMyName --user\n",
    "```\n",
    "\n",
    "Now try out the code:\n"
   ]
  },
  {
   "cell_type": "code",
   "execution_count": 1,
   "metadata": {
    "collapsed": true
   },
   "outputs": [],
   "source": [
    "from helloMyName import welcome"
   ]
  },
  {
   "cell_type": "code",
   "execution_count": 2,
   "metadata": {
    "collapsed": false
   },
   "outputs": [
    {
     "name": "stdout",
     "output_type": "stream",
     "text": [
      "hello world! I am sad to be a program.\n",
      "I am veeeeery sad to meet you\n"
     ]
    },
    {
     "data": {
      "text/plain": [
       "1"
      ]
     },
     "execution_count": 2,
     "metadata": {},
     "output_type": "execute_result"
    }
   ],
   "source": [
    "welcome.hi(1, 'sad', True)"
   ]
  },
  {
   "cell_type": "markdown",
   "metadata": {},
   "source": [
    "# Hosting docs on read the docs\n",
    "\n",
    "1. Make a read the docs account\n",
    "\n",
    "2. Enable webhooks for github\n",
    "\n",
    "GitHub\n",
    "\n",
    "If your project is hosted on GitHub, you can easily add a hook that will rebuild your docs whenever you push updates:\n",
    "\n",
    "+ Go to the \"Settings\" page for your project\n",
    "+ Click \"Webhooks & Services\"\n",
    "+ In the \"Services\" section, click \"Add service\"\n",
    "+ In the list of available services, click \"ReadTheDocs\"\n",
    "+ Check \"Active\"\n",
    "+ Click \"Add service\"\n",
    "\n",
    "Note\n",
    "\n",
    "The GitHub URL in your Read the Docs project must match the URL on GitHub. The URL is case-sensitive.\n",
    "\n",
    "If you ever need to manually set the webhook on GitHub, you can point it at https://readthedocs.org/github.\n",
    "\n"
   ]
  },
  {
   "cell_type": "code",
   "execution_count": null,
   "metadata": {
    "collapsed": true
   },
   "outputs": [],
   "source": []
  }
 ],
 "metadata": {
  "kernelspec": {
   "display_name": "Python 2",
   "language": "python",
   "name": "python2"
  },
  "language_info": {
   "codemirror_mode": {
    "name": "ipython",
    "version": 2
   },
   "file_extension": ".py",
   "mimetype": "text/x-python",
   "name": "python",
   "nbconvert_exporter": "python",
   "pygments_lexer": "ipython2",
   "version": "2.7.6"
  }
 },
 "nbformat": 4,
 "nbformat_minor": 1
}
