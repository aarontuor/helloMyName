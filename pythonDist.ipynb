{
 "cells": [
  {
   "cell_type": "markdown",
   "metadata": {},
   "source": [
    "https://readthedocs.org/\n",
    "\n",
    "reStructuredText and Markdown are lightweight markup languages (as opposed to heavyweight markup like html css combo) used for documentation among other things. This tutorial is written in Markdown. The docs are written in rSt."
   ]
  },
  {
   "cell_type": "markdown",
   "metadata": {},
   "source": [
    "```bash\n",
    "$ mkdir ~/pythonDist\n",
    "$ virtualenv --system-site-packages ~/pythonDist\n",
    "$ source ~/pythonDist/bin/activate\n",
    "$ pip install sphinx sphinx-autobuild\n",
    "$ pip install sphinx sphinx-autobuild\n",
    "$ cd docs\n",
    "$ sphinx-quickstart\n",
    "$ make html\n",
    "```"
   ]
  },
  {
   "cell_type": "markdown",
   "metadata": {
    "collapsed": true
   },
   "source": [
    "# Customization\n",
    "\n",
    "Add these lines in the appropriate spots in `conf.py`\n",
    "\n",
    "```python\n",
    "sys.path.append(os.path.abspath('sphinxext'))\n",
    "sys.path.append(os.path.abspath('../hello/'))\n",
    "html_theme = \"sphinx_rtd_theme\"\n",
    "html_logo = '_static/snake.png'\n",
    "```\n",
    "\n",
    "Add these lines in the appropriate spots in `index.rst`\n",
    "```\n",
    ".. automodule:: welcome\n",
    "   :members:\n",
    "   :undoc-members:\n",
    "```"
   ]
  },
  {
   "cell_type": "markdown",
   "metadata": {},
   "source": [
    "# hosting the code on github\n",
    "\n",
    "1. Make a repo on github called myNameHello.\n",
    "2. Link the repo as the remote of your local hello repo.\n",
    "    From `hello` directory:\n",
    "    \n",
    "```bash\n",
    "$ git init\n",
    "$ git add --all\n",
    "$ git commit -m 'first commit'\n",
    "$ git remote add origin https://github.com/aarontuor/hello.git\n",
    "$ git push origin master\n",
    "```\n",
    "\n",
    "# distributing the code on pypi\n",
    "\n",
    "\n",
    "\n",
    "\n",
    "\n",
    "\n",
    "    \n",
    "    \n",
    "    \n",
    "    \n",
    "    \n",
    "    \n",
    "    \n",
    "    \n",
    "    \n"
   ]
  },
  {
   "cell_type": "code",
   "execution_count": null,
   "metadata": {
    "collapsed": true
   },
   "outputs": [],
   "source": []
  }
 ],
 "metadata": {
  "kernelspec": {
   "display_name": "Python 2",
   "language": "python",
   "name": "python2"
  },
  "language_info": {
   "codemirror_mode": {
    "name": "ipython",
    "version": 2
   },
   "file_extension": ".py",
   "mimetype": "text/x-python",
   "name": "python",
   "nbconvert_exporter": "python",
   "pygments_lexer": "ipython2",
   "version": "2.7.6"
  }
 },
 "nbformat": 4,
 "nbformat_minor": 1
}
