{
 "cells": [
  {
   "cell_type": "markdown",
   "metadata": {},
   "source": [
    "https://readthedocs.org/\n",
    "\n",
    "reStructuredText and Markdown are lightweight markup languages (as opposed to heavyweight markup like html css combo) used for documentation among other things. \n",
    "\n",
    "```bash\n",
    "$ virtualenv --system-site-packages ~/pythonDist\n",
    "```"
   ]
  },
  {
   "cell_type": "markdown",
   "metadata": {},
   "source": [
    "```bash\n",
    "$ mkdir ~/pythonDist\n",
    "$ virtualenv --system-site-packages ~/pythonDist\n",
    "$ source ~/pythonDist/bin/activate\n",
    "$ pip install sphinx sphinx-autobuild\n",
    "$ mkdir docs\n",
    "$ cd docs\n",
    "$ sphinx-quickstart\n",
    "$ make html\n",
    "```"
   ]
  },
  {
   "cell_type": "code",
   "execution_count": null,
   "metadata": {
    "collapsed": true
   },
   "outputs": [],
   "source": []
  }
 ],
 "metadata": {
  "kernelspec": {
   "display_name": "Python 2",
   "language": "python",
   "name": "python2"
  },
  "language_info": {
   "codemirror_mode": {
    "name": "ipython",
    "version": 2
   },
   "file_extension": ".py",
   "mimetype": "text/x-python",
   "name": "python",
   "nbconvert_exporter": "python",
   "pygments_lexer": "ipython2",
   "version": "2.7.6"
  }
 },
 "nbformat": 4,
 "nbformat_minor": 1
}
